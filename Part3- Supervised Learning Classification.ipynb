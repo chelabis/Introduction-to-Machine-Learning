{
 "cells": [
  {
   "cell_type": "markdown",
   "id": "647b917b",
   "metadata": {},
   "source": [
    "# Applied Machine Learning- Part 2: Supervised learning Classification\n",
    "## Binary and Multi-class Classification"
   ]
  },
  {
   "cell_type": "markdown",
   "id": "66b88f9e",
   "metadata": {},
   "source": [
    "## Logistic Regression\n",
    "### Breast cancer sample"
   ]
  },
  {
   "cell_type": "code",
   "execution_count": 1,
   "id": "ce8963ec",
   "metadata": {},
   "outputs": [],
   "source": [
    "import numpy as np\n",
    "import pandas as pd\n",
    "import matplotlib.pyplot as plt\n",
    "from sklearn.model_selection import train_test_split"
   ]
  },
  {
   "cell_type": "code",
   "execution_count": 2,
   "id": "a77fbd20",
   "metadata": {},
   "outputs": [],
   "source": [
    "from sklearn.linear_model import LogisticRegression\n",
    "from sklearn.datasets import load_breast_cancer\n",
    "(X_cancer, y_cancer) = load_breast_cancer(return_X_y = True)"
   ]
  },
  {
   "cell_type": "code",
   "execution_count": 3,
   "id": "cc4a0cc5",
   "metadata": {},
   "outputs": [
    {
     "name": "stdout",
     "output_type": "stream",
     "text": [
      "Accuracy of logistic regression classifier on: training set = 0.96, test set = 0.95\n"
     ]
    }
   ],
   "source": [
    "X_train, X_test, y_train, y_test = train_test_split(X_cancer, y_cancer, test_size=0.5)\n",
    "\n",
    "clf = LogisticRegression(max_iter=10000).fit(X_train, y_train)\n",
    "\n",
    "print('Accuracy of logistic regression classifier on: training set = {:.2f}, test set = {:.2f}'\n",
    "      .format(clf.score(X_train, y_train), clf.score(X_test, y_test)))"
   ]
  },
  {
   "cell_type": "markdown",
   "id": "8533d550",
   "metadata": {},
   "source": [
    "#### Linear classifier with the maximum margin is the best linear classifier that called linear support vector machine (LSVM)."
   ]
  },
  {
   "cell_type": "markdown",
   "id": "1f2d081a",
   "metadata": {},
   "source": [
    "## Support Vector Machines\n",
    "### Linear support vector machine"
   ]
  },
  {
   "cell_type": "code",
   "execution_count": 4,
   "id": "20c5ec23",
   "metadata": {},
   "outputs": [],
   "source": [
    "from sklearn.svm import SVC"
   ]
  },
  {
   "cell_type": "code",
   "execution_count": 5,
   "id": "ef04082d",
   "metadata": {},
   "outputs": [
    {
     "name": "stdout",
     "output_type": "stream",
     "text": [
      "Accuracy of support vector classifier on: training set = 0.97, test set = 0.96\n"
     ]
    }
   ],
   "source": [
    "clf = SVC(kernel='linear', C=1).fit(X_train, y_train)\n",
    "print('Accuracy of support vector classifier on: training set = {:.2f}, test set = {:.2f}'\n",
    "      .format(clf.score(X_train, y_train), clf.score(X_test, y_test)))"
   ]
  },
  {
   "cell_type": "markdown",
   "id": "6cffde4b",
   "metadata": {},
   "source": [
    "#### Larger C: fit the training data as well as possible - Less regularization"
   ]
  },
  {
   "cell_type": "code",
   "execution_count": 6,
   "id": "e17e5f37",
   "metadata": {},
   "outputs": [],
   "source": [
    "from sklearn.svm import LinearSVC"
   ]
  },
  {
   "cell_type": "code",
   "execution_count": 7,
   "id": "61a16329",
   "metadata": {},
   "outputs": [
    {
     "name": "stderr",
     "output_type": "stream",
     "text": [
      "C:\\ProgramData\\anaconda3\\Lib\\site-packages\\sklearn\\svm\\_classes.py:32: FutureWarning: The default value of `dual` will change from `True` to `'auto'` in 1.5. Set the value of `dual` explicitly to suppress the warning.\n",
      "  warnings.warn(\n",
      "C:\\ProgramData\\anaconda3\\Lib\\site-packages\\sklearn\\svm\\_base.py:1242: ConvergenceWarning: Liblinear failed to converge, increase the number of iterations.\n",
      "  warnings.warn(\n"
     ]
    },
    {
     "data": {
      "text/plain": [
       "0.8526315789473684"
      ]
     },
     "execution_count": 7,
     "metadata": {},
     "output_type": "execute_result"
    }
   ],
   "source": [
    "clf = LinearSVC(C=0.1).fit(X_train, y_train)\n",
    "clf.score(X_test, y_test)"
   ]
  },
  {
   "cell_type": "markdown",
   "id": "c35b625e",
   "metadata": {},
   "source": [
    "## Multi-class Classification\n",
    "### Kernelized Support Vector Machines"
   ]
  },
  {
   "cell_type": "markdown",
   "id": "e5017f18",
   "metadata": {},
   "source": [
    "#### SVC default is RBF kernel, the other kernel can use is polynomial. RBF gamma vector if small: more points group with each other and have smoother boundary. High value of gamma can cause overfitting."
   ]
  },
  {
   "cell_type": "code",
   "execution_count": 8,
   "id": "b5182303",
   "metadata": {},
   "outputs": [
    {
     "name": "stdout",
     "output_type": "stream",
     "text": [
      "Accuracy of RBF-kernel SVC on: train = 0.93, test = 0.91\n"
     ]
    }
   ],
   "source": [
    "clf = SVC(C=10).fit(X_train, y_train)\n",
    "print('Accuracy of RBF-kernel SVC on: train = {:.2f}, test = {:.2f}'\n",
    "     .format(clf.score(X_train, y_train), clf.score(X_test, y_test)))"
   ]
  },
  {
   "cell_type": "code",
   "execution_count": 9,
   "id": "51a6c8b7",
   "metadata": {},
   "outputs": [],
   "source": [
    "from sklearn.preprocessing import MinMaxScaler\n",
    "scaler = MinMaxScaler()"
   ]
  },
  {
   "cell_type": "code",
   "execution_count": 10,
   "id": "048fa6cb",
   "metadata": {},
   "outputs": [
    {
     "name": "stdout",
     "output_type": "stream",
     "text": [
      "Accuracy of RBF-kernel SVC on normalized features: train = 0.99, test = 0.97\n"
     ]
    }
   ],
   "source": [
    "X_train_scaled = scaler.fit_transform(X_train)\n",
    "X_test_scaled = scaler.transform(X_test)\n",
    "clf = SVC(C=10).fit(X_train_scaled, y_train)\n",
    "print('Accuracy of RBF-kernel SVC on normalized features: train = {:.2f}, test = {:.2f}'\n",
    "     .format(clf.score(X_train_scaled, y_train), clf.score(X_test_scaled, y_test)))"
   ]
  },
  {
   "cell_type": "markdown",
   "id": "9ef72e55",
   "metadata": {},
   "source": [
    "#### So, normalization is pretty well in this scenario!"
   ]
  },
  {
   "cell_type": "markdown",
   "id": "8d33b612",
   "metadata": {},
   "source": [
    "### Cross validation"
   ]
  },
  {
   "cell_type": "code",
   "execution_count": 11,
   "id": "b3b0f1e7",
   "metadata": {},
   "outputs": [
    {
     "data": {
      "text/html": [
       "<div>\n",
       "<style scoped>\n",
       "    .dataframe tbody tr th:only-of-type {\n",
       "        vertical-align: middle;\n",
       "    }\n",
       "\n",
       "    .dataframe tbody tr th {\n",
       "        vertical-align: top;\n",
       "    }\n",
       "\n",
       "    .dataframe thead th {\n",
       "        text-align: right;\n",
       "    }\n",
       "</style>\n",
       "<table border=\"1\" class=\"dataframe\">\n",
       "  <thead>\n",
       "    <tr style=\"text-align: right;\">\n",
       "      <th></th>\n",
       "      <th>fruit_label</th>\n",
       "      <th>fruit_name</th>\n",
       "      <th>fruit_subtype</th>\n",
       "      <th>mass</th>\n",
       "      <th>width</th>\n",
       "      <th>height</th>\n",
       "      <th>color_score</th>\n",
       "    </tr>\n",
       "  </thead>\n",
       "  <tbody>\n",
       "    <tr>\n",
       "      <th>0</th>\n",
       "      <td>1</td>\n",
       "      <td>apple</td>\n",
       "      <td>granny_smith</td>\n",
       "      <td>192</td>\n",
       "      <td>8.4</td>\n",
       "      <td>7.3</td>\n",
       "      <td>0.55</td>\n",
       "    </tr>\n",
       "    <tr>\n",
       "      <th>1</th>\n",
       "      <td>1</td>\n",
       "      <td>apple</td>\n",
       "      <td>granny_smith</td>\n",
       "      <td>180</td>\n",
       "      <td>8.0</td>\n",
       "      <td>6.8</td>\n",
       "      <td>0.59</td>\n",
       "    </tr>\n",
       "    <tr>\n",
       "      <th>2</th>\n",
       "      <td>1</td>\n",
       "      <td>apple</td>\n",
       "      <td>granny_smith</td>\n",
       "      <td>176</td>\n",
       "      <td>7.4</td>\n",
       "      <td>7.2</td>\n",
       "      <td>0.60</td>\n",
       "    </tr>\n",
       "    <tr>\n",
       "      <th>3</th>\n",
       "      <td>2</td>\n",
       "      <td>mandarin</td>\n",
       "      <td>mandarin</td>\n",
       "      <td>86</td>\n",
       "      <td>6.2</td>\n",
       "      <td>4.7</td>\n",
       "      <td>0.80</td>\n",
       "    </tr>\n",
       "    <tr>\n",
       "      <th>4</th>\n",
       "      <td>2</td>\n",
       "      <td>mandarin</td>\n",
       "      <td>mandarin</td>\n",
       "      <td>84</td>\n",
       "      <td>6.0</td>\n",
       "      <td>4.6</td>\n",
       "      <td>0.79</td>\n",
       "    </tr>\n",
       "  </tbody>\n",
       "</table>\n",
       "</div>"
      ],
      "text/plain": [
       "   fruit_label fruit_name fruit_subtype  mass  width  height  color_score\n",
       "0            1      apple  granny_smith   192    8.4     7.3         0.55\n",
       "1            1      apple  granny_smith   180    8.0     6.8         0.59\n",
       "2            1      apple  granny_smith   176    7.4     7.2         0.60\n",
       "3            2   mandarin      mandarin    86    6.2     4.7         0.80\n",
       "4            2   mandarin      mandarin    84    6.0     4.6         0.79"
      ]
     },
     "execution_count": 11,
     "metadata": {},
     "output_type": "execute_result"
    }
   ],
   "source": [
    "df = pd.read_csv('fruit_data_with_colours.csv')\n",
    "df.head()"
   ]
  },
  {
   "cell_type": "code",
   "execution_count": 12,
   "id": "7e3aec46",
   "metadata": {},
   "outputs": [],
   "source": [
    "X = df[['width', 'height']]\n",
    "y = df['fruit_label']"
   ]
  },
  {
   "cell_type": "code",
   "execution_count": 13,
   "id": "4eaaf2db",
   "metadata": {},
   "outputs": [],
   "source": [
    "from sklearn.neighbors import KNeighborsClassifier\n",
    "from sklearn.model_selection import cross_val_score"
   ]
  },
  {
   "cell_type": "code",
   "execution_count": 14,
   "id": "7a7e46dc",
   "metadata": {},
   "outputs": [
    {
     "name": "stdout",
     "output_type": "stream",
     "text": [
      "Cross-validation scores (5-fold): [0.75       0.75       0.83333333 0.83333333 0.81818182]\n",
      "Mean cross-validation score (5-fold): 0.797\n"
     ]
    }
   ],
   "source": [
    "clf = KNeighborsClassifier(n_neighbors=5)\n",
    "cv_scores = cross_val_score(clf, X, y)          # default is cv=5 (number of folds)\n",
    "print('Cross-validation scores (5-fold):',cv_scores)\n",
    "print('Mean cross-validation score (5-fold): {:.3f}'.format(np.mean(cv_scores)))"
   ]
  },
  {
   "cell_type": "markdown",
   "id": "21050c9c",
   "metadata": {},
   "source": [
    "#### Four levels of gamma and 5 cross-validation folds"
   ]
  },
  {
   "cell_type": "code",
   "execution_count": 15,
   "id": "9efc5f73",
   "metadata": {},
   "outputs": [],
   "source": [
    "from sklearn.model_selection import validation_curve"
   ]
  },
  {
   "cell_type": "code",
   "execution_count": 16,
   "id": "45c8a8f7",
   "metadata": {},
   "outputs": [
    {
     "data": {
      "text/plain": [
       "array([[0.46808511, 0.40425532, 0.40425532, 0.34042553, 0.33333333],\n",
       "       [0.82978723, 0.78723404, 0.76595745, 0.74468085, 0.75      ],\n",
       "       [0.87234043, 0.89361702, 0.89361702, 0.89361702, 0.85416667],\n",
       "       [0.9787234 , 1.        , 0.9787234 , 1.        , 0.97916667]])"
      ]
     },
     "execution_count": 16,
     "metadata": {},
     "output_type": "execute_result"
    }
   ],
   "source": [
    "param_range = np.logspace(-3, 3, 4)      # gamma = 0.001, 0.1, 10, 1000\n",
    "train_scores, test_scores = validation_curve(SVC(), X, y, param_name='gamma', param_range=param_range, cv=5)\n",
    "train_scores               # Train scores with increasing gamma increased. Test scores first increased and then decreased."
   ]
  },
  {
   "cell_type": "markdown",
   "id": "ca5fe008",
   "metadata": {},
   "source": [
    "#### Using validation curve for see how the model sensitive according to its parameters."
   ]
  },
  {
   "cell_type": "markdown",
   "id": "d6fcebff",
   "metadata": {},
   "source": [
    "### Tip: Cross-validation is for evaluate the model, and Gridsearch is for tune the model."
   ]
  },
  {
   "cell_type": "markdown",
   "id": "f061dded",
   "metadata": {},
   "source": [
    "## Decision Trees"
   ]
  },
  {
   "cell_type": "code",
   "execution_count": 25,
   "id": "1bafff72",
   "metadata": {},
   "outputs": [],
   "source": [
    "from sklearn.datasets import load_iris\n",
    "from sklearn.tree import DecisionTreeClassifier\n",
    "from myplt import plot_feature_importances"
   ]
  },
  {
   "cell_type": "code",
   "execution_count": 18,
   "id": "b2fa8745",
   "metadata": {},
   "outputs": [
    {
     "name": "stdout",
     "output_type": "stream",
     "text": [
      "Accuracy of Decision tree classifier: train = 1.00, test = 0.97\n"
     ]
    }
   ],
   "source": [
    "iris = load_iris()\n",
    "X_train, X_test, y_train, y_test = train_test_split(iris.data, iris.target, random_state=3)\n",
    "clf = DecisionTreeClassifier().fit(X_train, y_train)\n",
    "print('Accuracy of Decision tree classifier: train = {:.2f}, test = {:.2f}'\n",
    "      .format(clf.score(X_train, y_train), clf.score(X_test, y_test)))"
   ]
  },
  {
   "cell_type": "markdown",
   "id": "e3f89c96",
   "metadata": {},
   "source": [
    "#### Controlling the model complexity of decision trees is needed to prevent overfitting. it can be done with max_depth."
   ]
  },
  {
   "cell_type": "code",
   "execution_count": 19,
   "id": "90dc9579",
   "metadata": {},
   "outputs": [
    {
     "name": "stdout",
     "output_type": "stream",
     "text": [
      "Accuracy of Decision tree classifier: train = 0.98, test = 0.97\n"
     ]
    }
   ],
   "source": [
    "clf2 = DecisionTreeClassifier(max_depth=3).fit(X_train, y_train)\n",
    "print('Accuracy of Decision tree classifier: train = {:.2f}, test = {:.2f}'\n",
    "      .format(clf2.score(X_train, y_train), clf2.score(X_test, y_test)))"
   ]
  },
  {
   "cell_type": "markdown",
   "id": "213d95c8",
   "metadata": {},
   "source": [
    "#### Decision trees clf parameteres: max_depth: number of split points - use for reduce tree complexity and overfitting.                        min_samples_leaf: minimum number of instances a leaf can have - to avoid further splitting                                                                      max_leaf_nodes: limits total number of leaves in the tree.      Adjust just one of these enough for avoid to overfitting."
   ]
  },
  {
   "cell_type": "code",
   "execution_count": 27,
   "id": "f8b92180",
   "metadata": {},
   "outputs": [
    {
     "data": {
      "image/png": "[encoded data removed]",
      "text/plain": [
       "<Figure size 640x480 with 1 Axes>"
      ]
     },
     "metadata": {},
     "output_type": "display_data"
    },
    {
     "name": "stdout",
     "output_type": "stream",
     "text": [
      "Feature importances: [0.         0.03128242 0.54643762 0.42227996]\n"
     ]
    }
   ],
   "source": [
    "plt.figure()\n",
    "plot_feature_importances(clf, iris.feature_names)\n",
    "plt.show()\n",
    "\n",
    "print('Feature importances: {}'.format(clf.feature_importances_))"
   ]
  }
 ],
 "metadata": {
  "kernelspec": {
   "display_name": "Python 3 (ipykernel)",
   "language": "python",
   "name": "python3"
  },
  "language_info": {
   "codemirror_mode": {
    "name": "ipython",
    "version": 3
   },
   "file_extension": ".py",
   "mimetype": "text/x-python",
   "name": "python",
   "nbconvert_exporter": "python",
   "pygments_lexer": "ipython3",
   "version": "3.11.5"
  }
 },
 "nbformat": 4,
 "nbformat_minor": 5
}
